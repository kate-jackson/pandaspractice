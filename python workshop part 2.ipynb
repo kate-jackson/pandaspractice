{
 "cells": [
  {
   "cell_type": "code",
   "execution_count": 1,
   "id": "6364c68b-db9b-4d4a-8bbe-3512f1c103ac",
   "metadata": {},
   "outputs": [],
   "source": [
    "import pandas as pd"
   ]
  },
  {
   "cell_type": "code",
   "execution_count": 2,
   "id": "3aef1af3-06ac-48f4-96e8-8861cc1fc214",
   "metadata": {},
   "outputs": [
    {
     "data": {
      "text/plain": [
       "<function pandas.io.parsers.readers.read_csv(filepath_or_buffer: 'FilePath | ReadCsvBuffer[bytes] | ReadCsvBuffer[str]', sep=<no_default>, delimiter=None, header='infer', names=<no_default>, index_col=None, usecols=None, squeeze=None, prefix=<no_default>, mangle_dupe_cols=True, dtype: 'DtypeArg | None' = None, engine: 'CSVEngine | None' = None, converters=None, true_values=None, false_values=None, skipinitialspace=False, skiprows=None, skipfooter=0, nrows=None, na_values=None, keep_default_na=True, na_filter=True, verbose=False, skip_blank_lines=True, parse_dates=None, infer_datetime_format=False, keep_date_col=False, date_parser=None, dayfirst=False, cache_dates=True, iterator=False, chunksize=None, compression: 'CompressionOptions' = 'infer', thousands=None, decimal: 'str' = '.', lineterminator=None, quotechar='\"', quoting=0, doublequote=True, escapechar=None, comment=None, encoding=None, encoding_errors: 'str | None' = 'strict', dialect=None, error_bad_lines=None, warn_bad_lines=None, on_bad_lines=None, delim_whitespace=False, low_memory=True, memory_map=False, float_precision=None, storage_options: 'StorageOptions' = None)>"
      ]
     },
     "execution_count": 2,
     "metadata": {},
     "output_type": "execute_result"
    }
   ],
   "source": [
    "pd.read_csv "
   ]
  },
  {
   "cell_type": "code",
   "execution_count": 3,
   "id": "aa2e3041-200e-4c16-9347-d895e6bfa2e9",
   "metadata": {},
   "outputs": [],
   "source": [
    "# to find something within a csv file us df.iloc[row,column] with 0 based indexing"
   ]
  },
  {
   "cell_type": "code",
   "execution_count": 4,
   "id": "39043c94-de5a-41b9-887c-6992bc51b349",
   "metadata": {},
   "outputs": [],
   "source": [
    "# also df.loc[\"row name\",\"column name\"]"
   ]
  },
  {
   "cell_type": "code",
   "execution_count": 5,
   "id": "e4507e1a-b761-43c5-8e93-8d5e80df986c",
   "metadata": {},
   "outputs": [],
   "source": [
    "# df.loc[\"row name\",:] will get everything in a row"
   ]
  },
  {
   "cell_type": "code",
   "execution_count": 6,
   "id": "21174bcc-726c-4739-900d-7314dbd0da8a",
   "metadata": {},
   "outputs": [],
   "source": [
    "#df.max()/.min()"
   ]
  },
  {
   "cell_type": "code",
   "execution_count": 7,
   "id": "9e627d4d-f74a-48b8-918b-e6bc2e374cc5",
   "metadata": {},
   "outputs": [],
   "source": [
    "# df2> df.mean()\n",
    "#df2.agreggate(\"sum\", axis=1) / len(df.columns)"
   ]
  },
  {
   "cell_type": "code",
   "execution_count": 9,
   "id": "72a99c9f-5c76-4a05-90f4-b0081f786af9",
   "metadata": {},
   "outputs": [],
   "source": [
    "#df.groupby(wealth_score).sum() -- groups objects and then you had to perform an additional fucntion  on it "
   ]
  },
  {
   "cell_type": "code",
   "execution_count": 10,
   "id": "875aaa10-43bf-409c-a9cc-8dde29a59c40",
   "metadata": {},
   "outputs": [],
   "source": [
    "import matplotlib.pyplot as plt"
   ]
  },
  {
   "cell_type": "code",
   "execution_count": 12,
   "id": "c75d1d55-e30e-45d0-9176-265541a9f0b1",
   "metadata": {},
   "outputs": [
    {
     "data": {
      "text/plain": [
       "Text(0.5, 0, 'time (hr)')"
      ]
     },
     "execution_count": 12,
     "metadata": {},
     "output_type": "execute_result"
    },
    {
     "data": {
      "image/png": "[encoded data removed]",
      "text/plain": [
       "<Figure size 640x480 with 1 Axes>"
      ]
     },
     "metadata": {},
     "output_type": "display_data"
    }
   ],
   "source": [
    "time = [0,1,2,3]\n",
    "position = [0,100,200,300]\n",
    "plt.plot(time, position)\n",
    "plt.xlabel(\"time (hr)\")"
   ]
  },
  {
   "cell_type": "code",
   "execution_count": 13,
   "id": "27a5e510-57a6-4487-820b-15bbb5461222",
   "metadata": {},
   "outputs": [],
   "source": [
    "# List Functions"
   ]
  },
  {
   "cell_type": "code",
   "execution_count": 14,
   "id": "fb74a4e7-ddb0-42a7-bf08-fc956eb9323e",
   "metadata": {},
   "outputs": [],
   "source": [
    "pressures = [0.273,0.277,0.275,0.276]"
   ]
  },
  {
   "cell_type": "code",
   "execution_count": 15,
   "id": "3b238572-6ff6-4f32-b925-66f471eac1f3",
   "metadata": {},
   "outputs": [
    {
     "name": "stdout",
     "output_type": "stream",
     "text": [
      "pressures: [0.273, 0.277, 0.275, 0.276]\n"
     ]
    }
   ],
   "source": [
    "print(\"pressures:\", pressures)"
   ]
  },
  {
   "cell_type": "code",
   "execution_count": 16,
   "id": "ccb028e3-df77-470b-8bfa-5a466e83932b",
   "metadata": {},
   "outputs": [
    {
     "data": {
      "text/plain": [
       "4"
      ]
     },
     "execution_count": 16,
     "metadata": {},
     "output_type": "execute_result"
    }
   ],
   "source": [
    "len(pressures)"
   ]
  },
  {
   "cell_type": "code",
   "execution_count": 17,
   "id": "5e1a9897-739d-4507-838c-6a1fde682e6f",
   "metadata": {},
   "outputs": [
    {
     "data": {
      "text/plain": [
       "[0.273, 0.277]"
      ]
     },
     "execution_count": 17,
     "metadata": {},
     "output_type": "execute_result"
    }
   ],
   "source": [
    "pressures[0:2]"
   ]
  },
  {
   "cell_type": "code",
   "execution_count": 18,
   "id": "d1913d99-9b72-4204-a6a1-f5ee20db614c",
   "metadata": {},
   "outputs": [],
   "source": [
    "primes = [2,3,5]"
   ]
  },
  {
   "cell_type": "code",
   "execution_count": 19,
   "id": "2f0a71f5-e1df-4438-9184-f41be4c3f01f",
   "metadata": {},
   "outputs": [],
   "source": [
    "primes.append(7)"
   ]
  },
  {
   "cell_type": "code",
   "execution_count": 20,
   "id": "fe896d70-dc11-4bff-b3af-9c1d1e79d7b5",
   "metadata": {},
   "outputs": [
    {
     "data": {
      "text/plain": [
       "[2, 3, 5, 7]"
      ]
     },
     "execution_count": 20,
     "metadata": {},
     "output_type": "execute_result"
    }
   ],
   "source": [
    "primes"
   ]
  },
  {
   "cell_type": "code",
   "execution_count": 27,
   "id": "b0180042-eda5-46c4-974d-ff5ed4232a34",
   "metadata": {},
   "outputs": [],
   "source": [
    "primes = [2,3,5]\n",
    "teen_primes = [11,13,17,19]\n",
    "middledaged_primes = [37,41,43,47]"
   ]
  },
  {
   "cell_type": "code",
   "execution_count": 28,
   "id": "1678e005-d2fb-47b8-847c-50c20274ba48",
   "metadata": {},
   "outputs": [],
   "source": [
    "primes.extend(teen_primes)"
   ]
  },
  {
   "cell_type": "code",
   "execution_count": 29,
   "id": "b9208a19-e97f-471d-aa42-25b75fda4cca",
   "metadata": {},
   "outputs": [
    {
     "data": {
      "text/plain": [
       "[2, 3, 5, 11, 13, 17, 19]"
      ]
     },
     "execution_count": 29,
     "metadata": {},
     "output_type": "execute_result"
    }
   ],
   "source": [
    "primes"
   ]
  },
  {
   "cell_type": "code",
   "execution_count": 30,
   "id": "53076990-1ce7-4fe6-9655-a0a2ffad391d",
   "metadata": {},
   "outputs": [],
   "source": [
    "del primes[-1]"
   ]
  },
  {
   "cell_type": "code",
   "execution_count": 31,
   "id": "5ea0b779-678c-4210-a4c5-7d37bd1d2f9a",
   "metadata": {},
   "outputs": [
    {
     "data": {
      "text/plain": [
       "[2, 3, 5, 11, 13, 17]"
      ]
     },
     "execution_count": 31,
     "metadata": {},
     "output_type": "execute_result"
    }
   ],
   "source": [
    "primes"
   ]
  },
  {
   "cell_type": "code",
   "execution_count": 32,
   "id": "7e9832d9-978d-420e-ae79-ebfcb0952b06",
   "metadata": {},
   "outputs": [],
   "source": [
    "empty_list = []"
   ]
  },
  {
   "cell_type": "code",
   "execution_count": 33,
   "id": "a7a57cae-7593-48a6-bf2b-35709e595c13",
   "metadata": {},
   "outputs": [
    {
     "data": {
      "text/plain": [
       "0"
      ]
     },
     "execution_count": 33,
     "metadata": {},
     "output_type": "execute_result"
    }
   ],
   "source": [
    "len(empty_list)"
   ]
  },
  {
   "cell_type": "code",
   "execution_count": 34,
   "id": "9afdb56b-5a85-4a53-95b2-ca295ac73a0d",
   "metadata": {},
   "outputs": [
    {
     "name": "stdout",
     "output_type": "stream",
     "text": [
      "c\n"
     ]
    }
   ],
   "source": [
    "element = 'carbon'\n",
    "print(element[0])"
   ]
  },
  {
   "cell_type": "code",
   "execution_count": 35,
   "id": "309e6ab8-41cf-40b9-b25a-ed91f0793b06",
   "metadata": {},
   "outputs": [],
   "source": [
    "#strings are immutable -- cannot be changed; lists are mutable "
   ]
  },
  {
   "cell_type": "code",
   "execution_count": 37,
   "id": "6a74fdf9-1af8-498b-b7eb-bd1c509c91e2",
   "metadata": {},
   "outputs": [
    {
     "name": "stdout",
     "output_type": "stream",
     "text": [
      "3\n",
      "4\n",
      "6\n"
     ]
    }
   ],
   "source": [
    "for number in [2,3,5]:\n",
    "    print(number+1)"
   ]
  },
  {
   "cell_type": "code",
   "execution_count": 38,
   "id": "bb574cb8-6731-4ebc-87a3-c0f76996d12d",
   "metadata": {},
   "outputs": [
    {
     "data": {
      "text/plain": [
       "[0, 1, 2]"
      ]
     },
     "execution_count": 38,
     "metadata": {},
     "output_type": "execute_result"
    }
   ],
   "source": [
    "list(range(0,3))"
   ]
  },
  {
   "cell_type": "code",
   "execution_count": 39,
   "id": "5542e342-4908-4d12-bec2-454408404f44",
   "metadata": {},
   "outputs": [
    {
     "name": "stdout",
     "output_type": "stream",
     "text": [
      "<class 'range'>\n",
      "(0, 3)\n"
     ]
    }
   ],
   "source": [
    "for number in range,(0,3):\n",
    "    print(number)"
   ]
  },
  {
   "cell_type": "code",
   "execution_count": 41,
   "id": "b48a378f-8813-4dc1-9bc5-372a1aa7558e",
   "metadata": {},
   "outputs": [
    {
     "name": "stdout",
     "output_type": "stream",
     "text": [
      "55\n"
     ]
    }
   ],
   "source": [
    "total = 0\n",
    "for number in range(10):\n",
    "    total = total + (number +1)\n",
    "print(total)"
   ]
  },
  {
   "cell_type": "code",
   "execution_count": 42,
   "id": "8a59cb8f-5860-4d82-a391-a6ce61c80934",
   "metadata": {},
   "outputs": [
    {
     "name": "stdout",
     "output_type": "stream",
     "text": [
      "string to list: ['t', 'i', 'n']\n",
      "list to string: gold\n"
     ]
    }
   ],
   "source": [
    "print('string to list:', list('tin'))\n",
    "print('list to string:', ''.join(['g', 'o', 'l', 'd']))"
   ]
  },
  {
   "cell_type": "code",
   "execution_count": 43,
   "id": "503fc2db-63d7-4884-bbe5-902f200f88cb",
   "metadata": {},
   "outputs": [
    {
     "data": {
      "text/plain": [
       "['s', 'o', 'm', 'e', ' ', 's', 't', 'r', 'i', 'n', 'g']"
      ]
     },
     "execution_count": 43,
     "metadata": {},
     "output_type": "execute_result"
    }
   ],
   "source": [
    "list('some string')"
   ]
  },
  {
   "cell_type": "code",
   "execution_count": 44,
   "id": "574ef9f6-cacb-4dfb-ae1e-f3e6962cf3ea",
   "metadata": {},
   "outputs": [
    {
     "data": {
      "text/plain": [
       "'x-y-z'"
      ]
     },
     "execution_count": 44,
     "metadata": {},
     "output_type": "execute_result"
    }
   ],
   "source": [
    "'-'.join(['x','y','z'])"
   ]
  },
  {
   "cell_type": "code",
   "execution_count": 45,
   "id": "5bc32385-9bbd-4393-ac9b-5b43044b7982",
   "metadata": {},
   "outputs": [
    {
     "name": "stdout",
     "output_type": "stream",
     "text": [
      "furn\n",
      "eniroulf\n"
     ]
    }
   ],
   "source": [
    "element = 'fluorine'\n",
    "print(element[::2])\n",
    "print(element[::-1])"
   ]
  },
  {
   "cell_type": "code",
   "execution_count": 65,
   "id": "17249d82-a7ee-4fcb-8024-bfd137e6b2fa",
   "metadata": {},
   "outputs": [
    {
     "data": {
      "text/plain": [
       "'fur'"
      ]
     },
     "execution_count": 65,
     "metadata": {},
     "output_type": "execute_result"
    }
   ],
   "source": [
    "element[0:5:2]"
   ]
  },
  {
   "cell_type": "code",
   "execution_count": 66,
   "id": "5714a60f-a0f1-4b82-8190-89eeed498d3a",
   "metadata": {},
   "outputs": [],
   "source": [
    "variable = 'death'"
   ]
  },
  {
   "cell_type": "code",
   "execution_count": 67,
   "id": "a0be103b-0b2f-4dc3-9a55-2d6199977f49",
   "metadata": {},
   "outputs": [
    {
     "data": {
      "text/plain": [
       "'dah'"
      ]
     },
     "execution_count": 67,
     "metadata": {},
     "output_type": "execute_result"
    }
   ],
   "source": [
    "variable[0::2]"
   ]
  },
  {
   "cell_type": "code",
   "execution_count": 68,
   "id": "b7cfd8e5-5974-45b2-aad9-959ad797fc07",
   "metadata": {},
   "outputs": [
    {
     "name": "stdout",
     "output_type": "stream",
     "text": [
      "letters is ['g', 'o', 'l', 'd'] and result is ['d', 'g', 'l', 'o']\n"
     ]
    }
   ],
   "source": [
    "# Program A\n",
    "letters = list('gold')\n",
    "result = sorted(letters)\n",
    "print('letters is', letters, 'and result is', result)"
   ]
  },
  {
   "cell_type": "code",
   "execution_count": 69,
   "id": "174bf0af-3a3a-4c92-935f-485c84af5f41",
   "metadata": {},
   "outputs": [
    {
     "name": "stdout",
     "output_type": "stream",
     "text": [
      "letters is ['d', 'g', 'l', 'o'] and result is None\n"
     ]
    }
   ],
   "source": [
    "# Program B\n",
    "letters = list('gold')\n",
    "result = letters.sort()\n",
    "print('letters is', letters, 'and result is', result)"
   ]
  },
  {
   "cell_type": "code",
   "execution_count": 70,
   "id": "d83f6278-2586-4b3c-90c1-9dbf124e647e",
   "metadata": {},
   "outputs": [],
   "source": [
    "result = letters.sort()"
   ]
  },
  {
   "cell_type": "code",
   "execution_count": 72,
   "id": "372de080-a941-47ba-afe1-a3a9ec277c44",
   "metadata": {},
   "outputs": [
    {
     "name": "stdout",
     "output_type": "stream",
     "text": [
      "None\n"
     ]
    }
   ],
   "source": [
    "print(result)"
   ]
  },
  {
   "cell_type": "code",
   "execution_count": 74,
   "id": "8cea5f58-0886-49b6-98fe-7ee394a59182",
   "metadata": {},
   "outputs": [
    {
     "name": "stdout",
     "output_type": "stream",
     "text": [
      "nit\n"
     ]
    }
   ],
   "source": [
    "original = \"tin\"\n",
    "result = \"\"\n",
    "for char in original:\n",
    "    result = char + result\n",
    "print(result)"
   ]
  },
  {
   "cell_type": "code",
   "execution_count": 75,
   "id": "3e862ed2-d338-4e17-8dbf-d658f82321fd",
   "metadata": {},
   "outputs": [
    {
     "name": "stdout",
     "output_type": "stream",
     "text": [
      "12\n"
     ]
    }
   ],
   "source": [
    "total = 0\n",
    "for word in [\"red\", \"green\", \"blue\"]:\n",
    "    total = total + len(word)\n",
    "print(total)"
   ]
  },
  {
   "cell_type": "code",
   "execution_count": 77,
   "id": "d8bb67ef-7409-458c-8764-00c27ce390b3",
   "metadata": {},
   "outputs": [
    {
     "name": "stdout",
     "output_type": "stream",
     "text": [
      "RGB\n"
     ]
    }
   ],
   "source": [
    "acro = \"\"\n",
    "for word in [\"red\",\"green\",\"blue\"]:\n",
    "    acro = acro + word[0].upper()\n",
    "print(acro)"
   ]
  },
  {
   "cell_type": "code",
   "execution_count": null,
   "id": "53d00380-a482-4e90-bddc-6050c440a7f7",
   "metadata": {},
   "outputs": [],
   "source": []
  }
 ],
 "metadata": {
  "kernelspec": {
   "display_name": "Python 3 (ipykernel)",
   "language": "python",
   "name": "python3"
  },
  "language_info": {
   "codemirror_mode": {
    "name": "ipython",
    "version": 3
   },
   "file_extension": ".py",
   "mimetype": "text/x-python",
   "name": "python",
   "nbconvert_exporter": "python",
   "pygments_lexer": "ipython3",
   "version": "3.9.13"
  }
 },
 "nbformat": 4,
 "nbformat_minor": 5
}
