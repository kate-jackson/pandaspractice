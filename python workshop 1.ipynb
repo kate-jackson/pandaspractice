{
 "cells": [
  {
   "cell_type": "markdown",
   "id": "bafc00aa-ce14-4aa0-ab41-e5cf8046a94f",
   "metadata": {},
   "source": [
    "Python Workshop Part 1"
   ]
  },
  {
   "cell_type": "code",
   "execution_count": 1,
   "id": "7ee3db45-b2f4-4d3d-9715-c5e491eaeb16",
   "metadata": {},
   "outputs": [],
   "source": [
    "age = 42\n",
    "first_name = 'Ahmed'"
   ]
  },
  {
   "cell_type": "code",
   "execution_count": 2,
   "id": "936fab83-4581-4c0a-8a4c-edfed6f32df1",
   "metadata": {},
   "outputs": [
    {
     "name": "stdout",
     "output_type": "stream",
     "text": [
      "42\n"
     ]
    }
   ],
   "source": [
    "print(age)"
   ]
  },
  {
   "cell_type": "code",
   "execution_count": 3,
   "id": "efd3007b-53cd-4a9a-a012-2bb60a607657",
   "metadata": {},
   "outputs": [
    {
     "name": "stdout",
     "output_type": "stream",
     "text": [
      "Ahmed is 42 years old\n"
     ]
    }
   ],
   "source": [
    "print(first_name,\"is\",age,\"years old\")"
   ]
  },
  {
   "cell_type": "code",
   "execution_count": 9,
   "id": "af69d332-2939-42a8-a076-1f24e56abdb7",
   "metadata": {},
   "outputs": [],
   "source": [
    "age = age +3"
   ]
  },
  {
   "cell_type": "code",
   "execution_count": 7,
   "id": "0cec590e-982a-4c2e-b260-e52576cc4dcf",
   "metadata": {},
   "outputs": [
    {
     "data": {
      "text/plain": [
       "45"
      ]
     },
     "execution_count": 7,
     "metadata": {},
     "output_type": "execute_result"
    }
   ],
   "source": [
    "age"
   ]
  },
  {
   "cell_type": "code",
   "execution_count": 10,
   "id": "d236b496-754d-4f27-afe5-ba1f01cd56fb",
   "metadata": {},
   "outputs": [
    {
     "name": "stdout",
     "output_type": "stream",
     "text": [
      "48\n"
     ]
    }
   ],
   "source": [
    "print(age)"
   ]
  },
  {
   "cell_type": "code",
   "execution_count": 11,
   "id": "2ad9288f-63a7-4379-b946-7feec71c3569",
   "metadata": {},
   "outputs": [],
   "source": [
    "atom_name = \"helium\""
   ]
  },
  {
   "cell_type": "code",
   "execution_count": 12,
   "id": "caeac28b-0403-4fd6-9e02-f3eaca366f1c",
   "metadata": {},
   "outputs": [
    {
     "data": {
      "text/plain": [
       "'h'"
      ]
     },
     "execution_count": 12,
     "metadata": {},
     "output_type": "execute_result"
    }
   ],
   "source": [
    "atom_name[0]"
   ]
  },
  {
   "cell_type": "code",
   "execution_count": 13,
   "id": "18ab4946-6963-47d8-900f-c61d2a82df8d",
   "metadata": {},
   "outputs": [
    {
     "data": {
      "text/plain": [
       "'heli'"
      ]
     },
     "execution_count": 13,
     "metadata": {},
     "output_type": "execute_result"
    }
   ],
   "source": [
    "atom_name[0:4]"
   ]
  },
  {
   "cell_type": "code",
   "execution_count": 14,
   "id": "438d18bc-69a1-4099-a4f4-2d68d36dfce9",
   "metadata": {},
   "outputs": [
    {
     "data": {
      "text/plain": [
       "6"
      ]
     },
     "execution_count": 14,
     "metadata": {},
     "output_type": "execute_result"
    }
   ],
   "source": [
    "len(atom_name)"
   ]
  },
  {
   "cell_type": "code",
   "execution_count": 15,
   "id": "9fdec86d-7235-43e2-a2ae-74da778084eb",
   "metadata": {},
   "outputs": [
    {
     "data": {
      "text/plain": [
       "str"
      ]
     },
     "execution_count": 15,
     "metadata": {},
     "output_type": "execute_result"
    }
   ],
   "source": [
    "type(atom_name)"
   ]
  },
  {
   "cell_type": "code",
   "execution_count": 16,
   "id": "37f1e9aa-897c-4ee7-9a12-1ffe794b74fb",
   "metadata": {},
   "outputs": [],
   "source": [
    "# This sentence is not code! "
   ]
  },
  {
   "cell_type": "code",
   "execution_count": 17,
   "id": "93fccdcd-6b7d-4ae2-bf67-b51488b3aad2",
   "metadata": {},
   "outputs": [
    {
     "name": "stdout",
     "output_type": "stream",
     "text": [
      "before\n",
      "\n",
      "after\n"
     ]
    }
   ],
   "source": [
    "print('before')\n",
    "print()\n",
    "print('after')"
   ]
  },
  {
   "cell_type": "code",
   "execution_count": 18,
   "id": "e78fb945-96e3-402f-8483-2ab824c509f1",
   "metadata": {},
   "outputs": [
    {
     "name": "stdout",
     "output_type": "stream",
     "text": [
      "example\n",
      "result of print is None\n"
     ]
    }
   ],
   "source": [
    "result = print('example')\n",
    "print('result of print is',result)"
   ]
  },
  {
   "cell_type": "code",
   "execution_count": 21,
   "id": "810ac2b7-b097-4905-822c-c0260ccc7a81",
   "metadata": {},
   "outputs": [],
   "source": [
    "#Functions: print, len, str, int, type, float"
   ]
  },
  {
   "cell_type": "code",
   "execution_count": 20,
   "id": "c1bea336-3177-4367-9501-12e5283fed91",
   "metadata": {},
   "outputs": [
    {
     "data": {
      "text/plain": [
       "3"
      ]
     },
     "execution_count": 20,
     "metadata": {},
     "output_type": "execute_result"
    }
   ],
   "source": [
    "max(1,2,3)"
   ]
  },
  {
   "cell_type": "code",
   "execution_count": 22,
   "id": "3a3b4e2e-f995-4da6-bf98-da5a8e847c60",
   "metadata": {},
   "outputs": [
    {
     "data": {
      "text/plain": [
       "'a'"
      ]
     },
     "execution_count": 22,
     "metadata": {},
     "output_type": "execute_result"
    }
   ],
   "source": [
    "max('a','A','0')"
   ]
  },
  {
   "cell_type": "code",
   "execution_count": 23,
   "id": "a0bf0820-f25d-4411-856d-2f5164165518",
   "metadata": {},
   "outputs": [
    {
     "ename": "TypeError",
     "evalue": "'>' not supported between instances of 'str' and 'int'",
     "output_type": "error",
     "traceback": [
      "\u001b[0;31m---------------------------------------------------------------------------\u001b[0m",
      "\u001b[0;31mTypeError\u001b[0m                                 Traceback (most recent call last)",
      "\u001b[0;32m/var/folders/9c/rc_18d_j205g4b4b0s_gwl900000gn/T/ipykernel_95675/3346429260.py\u001b[0m in \u001b[0;36m<module>\u001b[0;34m\u001b[0m\n\u001b[0;32m----> 1\u001b[0;31m \u001b[0mmax\u001b[0m\u001b[0;34m(\u001b[0m\u001b[0;36m1\u001b[0m\u001b[0;34m,\u001b[0m\u001b[0;34m'a'\u001b[0m\u001b[0;34m)\u001b[0m\u001b[0;34m\u001b[0m\u001b[0;34m\u001b[0m\u001b[0m\n\u001b[0m",
      "\u001b[0;31mTypeError\u001b[0m: '>' not supported between instances of 'str' and 'int'"
     ]
    }
   ],
   "source": [
    "max(1,'a')"
   ]
  },
  {
   "cell_type": "code",
   "execution_count": 24,
   "id": "28e00f06-71fc-4f7d-94a3-e40acb91559c",
   "metadata": {},
   "outputs": [
    {
     "data": {
      "text/plain": [
       "3.8"
      ]
     },
     "execution_count": 24,
     "metadata": {},
     "output_type": "execute_result"
    }
   ],
   "source": [
    "round(3.762, 1)"
   ]
  },
  {
   "cell_type": "code",
   "execution_count": 25,
   "id": "06301069-074c-46c2-a9d1-857ecdd23a67",
   "metadata": {},
   "outputs": [
    {
     "name": "stdout",
     "output_type": "stream",
     "text": [
      "11\n",
      "HELLO WORLD\n",
      "11\n"
     ]
    }
   ],
   "source": [
    "my_string = 'hello world' # create a string object\n",
    "print(len(my_string)) #call len function \n",
    "print(my_string.swapcase()) #call the swapcase function\n",
    "print(my_string.__len__()) # call the internal len method"
   ]
  },
  {
   "cell_type": "code",
   "execution_count": 26,
   "id": "951ad39a-9f6f-4fcc-9fb6-c3677ddf6cbf",
   "metadata": {},
   "outputs": [
    {
     "name": "stdout",
     "output_type": "stream",
     "text": [
      "False\n",
      "HELLO WORLD\n",
      "True\n"
     ]
    }
   ],
   "source": [
    "print(my_string.isupper())\n",
    "print(my_string.upper())\n",
    "\n",
    "print(my_string.upper().isupper())"
   ]
  },
  {
   "cell_type": "code",
   "execution_count": 27,
   "id": "d339a75a-5706-4be9-9a35-9b1ee5ba3bcb",
   "metadata": {},
   "outputs": [],
   "source": [
    "import math"
   ]
  },
  {
   "cell_type": "code",
   "execution_count": 28,
   "id": "3f402269-8e73-4c9e-8061-83f0c2650675",
   "metadata": {},
   "outputs": [
    {
     "data": {
      "text/plain": [
       "3.141592653589793"
      ]
     },
     "execution_count": 28,
     "metadata": {},
     "output_type": "execute_result"
    }
   ],
   "source": [
    "math.pi"
   ]
  },
  {
   "cell_type": "code",
   "execution_count": 29,
   "id": "21776652-cafb-4ff5-bec7-7031b937fbdb",
   "metadata": {},
   "outputs": [
    {
     "data": {
      "text/plain": [
       "-1.0"
      ]
     },
     "execution_count": 29,
     "metadata": {},
     "output_type": "execute_result"
    }
   ],
   "source": [
    "math.cos(math.pi)"
   ]
  },
  {
   "cell_type": "code",
   "execution_count": 30,
   "id": "165403dd-1b27-4ca3-9ee8-a21a056d6fa0",
   "metadata": {},
   "outputs": [],
   "source": [
    "import math as m"
   ]
  },
  {
   "cell_type": "code",
   "execution_count": 31,
   "id": "2d6f3cf8-affd-4253-ae1c-a345220600f4",
   "metadata": {},
   "outputs": [
    {
     "data": {
      "text/plain": [
       "3.141592653589793"
      ]
     },
     "execution_count": 31,
     "metadata": {},
     "output_type": "execute_result"
    }
   ],
   "source": [
    "m.pi"
   ]
  },
  {
   "cell_type": "code",
   "execution_count": 32,
   "id": "8814e9e4-f392-422f-948d-885352b109cf",
   "metadata": {},
   "outputs": [],
   "source": [
    "from math import cos, pi"
   ]
  },
  {
   "cell_type": "code",
   "execution_count": 33,
   "id": "bb97fde5-a297-4d8f-b3bf-024ad56536fb",
   "metadata": {},
   "outputs": [
    {
     "data": {
      "text/plain": [
       "3.141592653589793"
      ]
     },
     "execution_count": 33,
     "metadata": {},
     "output_type": "execute_result"
    }
   ],
   "source": [
    "pi"
   ]
  },
  {
   "cell_type": "code",
   "execution_count": 34,
   "id": "9c224d5b-5d1f-4453-bd78-20eb5ec77e04",
   "metadata": {},
   "outputs": [
    {
     "data": {
      "text/plain": [
       "-1.0"
      ]
     },
     "execution_count": 34,
     "metadata": {},
     "output_type": "execute_result"
    }
   ],
   "source": [
    "cos(pi)"
   ]
  },
  {
   "cell_type": "code",
   "execution_count": 35,
   "id": "f52fb13d-3dc0-4488-8313-eea0514e8293",
   "metadata": {},
   "outputs": [],
   "source": [
    "import pandas as pd"
   ]
  },
  {
   "cell_type": "code",
   "execution_count": null,
   "id": "bbb03bab-fb49-443d-a1a4-30d7064e6555",
   "metadata": {},
   "outputs": [],
   "source": [
    "df = pd.read_csv("
   ]
  }
 ],
 "metadata": {
  "kernelspec": {
   "display_name": "Python 3 (ipykernel)",
   "language": "python",
   "name": "python3"
  },
  "language_info": {
   "codemirror_mode": {
    "name": "ipython",
    "version": 3
   },
   "file_extension": ".py",
   "mimetype": "text/x-python",
   "name": "python",
   "nbconvert_exporter": "python",
   "pygments_lexer": "ipython3",
   "version": "3.9.13"
  }
 },
 "nbformat": 4,
 "nbformat_minor": 5
}
